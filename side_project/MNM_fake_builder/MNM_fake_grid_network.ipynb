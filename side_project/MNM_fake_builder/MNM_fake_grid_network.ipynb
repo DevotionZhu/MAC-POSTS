{
 "cells": [
  {
   "cell_type": "code",
   "execution_count": 1,
   "metadata": {},
   "outputs": [],
   "source": [
    "import numpy as np"
   ]
  },
  {
   "cell_type": "code",
   "execution_count": 2,
   "metadata": {},
   "outputs": [],
   "source": [
    "folder_name = \"fake\"\n",
    "num_row = 3\n",
    "num_col = 3\n",
    "O_prob = 2\n",
    "D_prob = 2\n",
    "cap = 2000\n",
    "length = 0.5\n",
    "rhoj = 200\n",
    "num_lane = 2\n",
    "spd_lb = 20\n",
    "spd_ub = 50\n",
    "\n",
    "assign_horizon = 10\n",
    "demand = 15"
   ]
  },
  {
   "cell_type": "code",
   "execution_count": 3,
   "metadata": {},
   "outputs": [],
   "source": [
    "link_type = 'CTM'\n",
    "node_type = 'FWJ'\n",
    "connector_type = 'PQ'\n",
    "O_type = 'DMOND'\n",
    "D_type = 'DMDND'"
   ]
  },
  {
   "cell_type": "code",
   "execution_count": 4,
   "metadata": {},
   "outputs": [],
   "source": [
    "file_attr = \"MNM_input_\"\n",
    "node_file = file_attr + \"node\"\n",
    "link_file = file_attr + \"link\"\n",
    "snap_file = \"Snap_graph\"\n",
    "od_file = file_attr + \"od\"\n",
    "demand_file = file_attr + 'demand'"
   ]
  },
  {
   "cell_type": "code",
   "execution_count": 5,
   "metadata": {},
   "outputs": [],
   "source": [
    "def add_node_str(node_num, type_str):\n",
    "    return str(node_num) + ' ' + type_str + '\\n'"
   ]
  },
  {
   "cell_type": "code",
   "execution_count": 6,
   "metadata": {},
   "outputs": [],
   "source": [
    "def add_snap_str(link_num, from_node, to_node):\n",
    "    return str(link_num) + ' ' + str(from_node) + ' ' + str(to_node) + '\\n';"
   ]
  },
  {
   "cell_type": "code",
   "execution_count": 7,
   "metadata": {},
   "outputs": [],
   "source": [
    "def add_link_str(link_num, link_type):\n",
    "    # CTM 0.8 45 2200 200 1\n",
    "    # PQ 1 99999 99999 99999 1\n",
    "    if link_type != 'PQ':\n",
    "        spd = np.round(np.random.random_sample() * (spd_ub - spd_lb)  + np.float(spd_lb))\n",
    "        return str(link_num) + ' ' + str(link_type) + ' ' + str(length) + ' ' + str(spd) + ' ' + str(cap) + ' ' + str(rhoj) + ' ' + str(num_lane) + '\\n'\n",
    "    else:\n",
    "        return str(link_num) + ' PQ 1 99999 99999 99999 1\\n'"
   ]
  },
  {
   "cell_type": "code",
   "execution_count": 8,
   "metadata": {},
   "outputs": [],
   "source": [
    "def add_OD(od_id, node_id):\n",
    "    return str(od_id) + ' ' + str(node_id) + '\\n'"
   ]
  },
  {
   "cell_type": "code",
   "execution_count": 9,
   "metadata": {},
   "outputs": [],
   "source": [
    "link_str_list = []\n",
    "node_str_list = []\n",
    "snap_str_list = []\n",
    "O_dict = dict()\n",
    "D_dict = dict()\n",
    "O_str_list = []\n",
    "D_str_list = []\n",
    "\n",
    "node_counter = 1\n",
    "link_counter = 1\n",
    "O_counter = 1\n",
    "D_counter = 1\n",
    "\n",
    "for i in xrange(num_row):\n",
    "    for j in xrange(num_col):\n",
    "        node_str_list.append(add_node_str(node_counter, node_type))\n",
    "        if (j != num_col - 1):\n",
    "            node1 = num_col * i + j + 1\n",
    "            node2 = node1 + 1\n",
    "            link_str_list.append(add_link_str(link_counter, link_type))\n",
    "            snap_str_list.append(add_snap_str(link_counter, node1, node2))\n",
    "            link_counter += 1\n",
    "            link_str_list.append(add_link_str(link_counter, link_type))\n",
    "            snap_str_list.append(add_snap_str(link_counter, node2, node1))   \n",
    "            link_counter += 1\n",
    "        if(i != num_row - 1):\n",
    "            node1 = num_col * i + j + 1\n",
    "            node2 = node1 + num_col\n",
    "            link_str_list.append(add_link_str(link_counter, link_type))\n",
    "            snap_str_list.append(add_snap_str(link_counter, node1, node2))\n",
    "            link_counter += 1\n",
    "            link_str_list.append(add_link_str(link_counter, link_type))\n",
    "            snap_str_list.append(add_snap_str(link_counter, node2, node1)) \n",
    "            link_counter += 1\n",
    "        node_counter += 1\n",
    "            \n",
    "for i in xrange(num_row):\n",
    "    for j in xrange(num_col):\n",
    "        node1 = num_col * i + j + 1\n",
    "        if(np.random.random_sample() < O_prob and (j ==0)):\n",
    "            node_str_list.append(add_node_str(node_counter, O_type))\n",
    "            O_dict[O_counter] = node1\n",
    "            O_str_list.append(add_OD(O_counter, node_counter))\n",
    "            link_str_list.append(add_link_str(link_counter, connector_type))\n",
    "            snap_str_list.append(add_snap_str(link_counter, node_counter, node1)) \n",
    "            link_counter += 1\n",
    "            node_counter += 1\n",
    "            O_counter += 1\n",
    "        if(np.random.random_sample() < D_prob and (j == num_col - 1)):\n",
    "            node_str_list.append(add_node_str(node_counter, D_type))\n",
    "            D_dict[D_counter] = node1\n",
    "            D_str_list.append(add_OD(D_counter, node_counter))\n",
    "            link_str_list.append(add_link_str(link_counter, connector_type))\n",
    "            snap_str_list.append(add_snap_str(link_counter, node1, node_counter)) \n",
    "            link_counter += 1\n",
    "            node_counter += 1\n",
    "            D_counter += 1\n"
   ]
  },
  {
   "cell_type": "code",
   "execution_count": 10,
   "metadata": {},
   "outputs": [
    {
     "name": "stdout",
     "output_type": "stream",
     "text": [
      "['1 CTM 0.5 34.0 2000 200 2\\n', '2 CTM 0.5 21.0 2000 200 2\\n', '3 CTM 0.5 33.0 2000 200 2\\n', '4 CTM 0.5 27.0 2000 200 2\\n', '5 CTM 0.5 46.0 2000 200 2\\n', '6 CTM 0.5 21.0 2000 200 2\\n', '7 CTM 0.5 46.0 2000 200 2\\n', '8 CTM 0.5 37.0 2000 200 2\\n', '9 CTM 0.5 22.0 2000 200 2\\n', '10 CTM 0.5 22.0 2000 200 2\\n', '11 CTM 0.5 38.0 2000 200 2\\n', '12 CTM 0.5 36.0 2000 200 2\\n', '13 CTM 0.5 40.0 2000 200 2\\n', '14 CTM 0.5 39.0 2000 200 2\\n', '15 CTM 0.5 28.0 2000 200 2\\n', '16 CTM 0.5 20.0 2000 200 2\\n', '17 CTM 0.5 21.0 2000 200 2\\n', '18 CTM 0.5 40.0 2000 200 2\\n', '19 CTM 0.5 34.0 2000 200 2\\n', '20 CTM 0.5 33.0 2000 200 2\\n', '21 CTM 0.5 49.0 2000 200 2\\n', '22 CTM 0.5 46.0 2000 200 2\\n', '23 CTM 0.5 49.0 2000 200 2\\n', '24 CTM 0.5 46.0 2000 200 2\\n', '25 PQ 1 99999 99999 99999 1\\n', '26 PQ 1 99999 99999 99999 1\\n', '27 PQ 1 99999 99999 99999 1\\n', '28 PQ 1 99999 99999 99999 1\\n', '29 PQ 1 99999 99999 99999 1\\n', '30 PQ 1 99999 99999 99999 1\\n']\n",
      "['1 FWJ\\n', '2 FWJ\\n', '3 FWJ\\n', '4 FWJ\\n', '5 FWJ\\n', '6 FWJ\\n', '7 FWJ\\n', '8 FWJ\\n', '9 FWJ\\n', '10 DMOND\\n', '11 DMDND\\n', '12 DMOND\\n', '13 DMDND\\n', '14 DMOND\\n', '15 DMDND\\n']\n",
      "['1 1 2\\n', '2 2 1\\n', '3 1 4\\n', '4 4 1\\n', '5 2 3\\n', '6 3 2\\n', '7 2 5\\n', '8 5 2\\n', '9 3 6\\n', '10 6 3\\n', '11 4 5\\n', '12 5 4\\n', '13 4 7\\n', '14 7 4\\n', '15 5 6\\n', '16 6 5\\n', '17 5 8\\n', '18 8 5\\n', '19 6 9\\n', '20 9 6\\n', '21 7 8\\n', '22 8 7\\n', '23 8 9\\n', '24 9 8\\n', '25 10 1\\n', '26 3 11\\n', '27 12 4\\n', '28 6 13\\n', '29 14 7\\n', '30 9 15\\n']\n",
      "['1 10\\n', '2 12\\n', '3 14\\n']\n",
      "['1 11\\n', '2 13\\n', '3 15\\n']\n",
      "{1: 1, 2: 4, 3: 7}\n"
     ]
    }
   ],
   "source": [
    "print link_str_list\n",
    "print node_str_list\n",
    "print snap_str_list\n",
    "print O_str_list\n",
    "print D_str_list\n",
    "print O_dict"
   ]
  },
  {
   "cell_type": "code",
   "execution_count": 11,
   "metadata": {},
   "outputs": [],
   "source": [
    "def add_demand_str(O, D):\n",
    "    l = [str(O), str(D)]\n",
    "    d = [str(demand) for i in range(assign_horizon)]\n",
    "    l = l + d\n",
    "    return ' '.join(l) + '\\n'"
   ]
  },
  {
   "cell_type": "code",
   "execution_count": 12,
   "metadata": {},
   "outputs": [],
   "source": [
    "# Origin_ID Destination_ID <demand by interval>\n",
    "demand_str_list = []\n",
    "\n",
    "for O, O_node in O_dict.iteritems():\n",
    "    for D, D_node in D_dict.iteritems():\n",
    "        if O_node != D_node:\n",
    "            demand_str_list.append(add_demand_str(O, D))"
   ]
  },
  {
   "cell_type": "code",
   "execution_count": 13,
   "metadata": {},
   "outputs": [],
   "source": [
    "f = file(link_file, 'w')\n",
    "f.write(\"#ID Type LEN(mile) FFS(mile/h) Cap(v/hour) RHOJ(v/miles) Lane\\n\")\n",
    "for line in link_str_list:\n",
    "    f.write(line)\n",
    "f.close()\n",
    "\n",
    "f = file(node_file, 'w')\n",
    "f.write('#ID Type\\n')\n",
    "for line in node_str_list:\n",
    "    f.write(line)\n",
    "f.close()\n",
    "\n",
    "f = file(snap_file, 'w')\n",
    "f.write('# EdgeID FromNodeId ToNodeId\\n')\n",
    "for line in snap_str_list:\n",
    "    f.write(line)\n",
    "f.close()\n",
    "\n",
    "f = file(od_file, 'w')\n",
    "f.write('#Origin_ID <-> node_ID\\n')\n",
    "for line in O_str_list:\n",
    "    f.write(line)\n",
    "f.write('#Dest_ID <-> node_ID\\n')\n",
    "for line in D_str_list:\n",
    "    f.write(line)\n",
    "f.close()\n",
    "\n",
    "f = file(demand_file, 'w')\n",
    "f.write('#Origin_ID Destination_ID <demand by interval>\\n')\n",
    "for line in demand_str_list:\n",
    "    f.write(line)\n",
    "f.close()"
   ]
  },
  {
   "cell_type": "code",
   "execution_count": 14,
   "metadata": {},
   "outputs": [
    {
     "name": "stdout",
     "output_type": "stream",
     "text": [
      "maximum_interval: 10\n",
      "num_of_link: 30\n",
      "num_of_node: 15\n",
      "num_of_O: 3\n",
      "num_of_D: 3\n",
      "num_of_od: 9\n"
     ]
    }
   ],
   "source": [
    "print 'maximum_interval:', assign_horizon\n",
    "print 'num_of_link:', len(link_str_list)\n",
    "print 'num_of_node:', len(node_str_list)\n",
    "print 'num_of_O:', len(O_dict)\n",
    "print 'num_of_D:', len(D_dict)\n",
    "print 'num_of_od:', len(demand_str_list)"
   ]
  },
  {
   "cell_type": "code",
   "execution_count": null,
   "metadata": {},
   "outputs": [],
   "source": []
  }
 ],
 "metadata": {
  "anaconda-cloud": {},
  "kernelspec": {
   "display_name": "Python 2",
   "language": "python",
   "name": "python2"
  },
  "language_info": {
   "codemirror_mode": {
    "name": "ipython",
    "version": 2
   },
   "file_extension": ".py",
   "mimetype": "text/x-python",
   "name": "python",
   "nbconvert_exporter": "python",
   "pygments_lexer": "ipython2",
   "version": "2.7.10"
  }
 },
 "nbformat": 4,
 "nbformat_minor": 1
}
