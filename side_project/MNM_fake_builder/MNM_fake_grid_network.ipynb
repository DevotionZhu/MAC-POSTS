{
 "cells": [
  {
   "cell_type": "code",
   "execution_count": null,
   "metadata": {},
   "outputs": [],
   "source": [
    "import numpy as np"
   ]
  },
  {
   "cell_type": "code",
   "execution_count": null,
   "metadata": {},
   "outputs": [],
   "source": [
    "folder_name = \"fake\"\n",
    "num_row = 3\n",
    "num_col = 3\n",
    "O_prob = 2\n",
    "D_prob = 2\n",
    "cap = 2000\n",
    "length = 0.5\n",
    "rhoj = 200\n",
    "num_lane = 2\n",
    "spd_lb = 20\n",
    "spd_ub = 50\n",
    "\n",
    "assign_horizon = 10\n",
    "demand = 15"
   ]
  },
  {
   "cell_type": "code",
   "execution_count": null,
   "metadata": {},
   "outputs": [],
   "source": [
    "link_type = 'CTM'\n",
    "node_type = 'FWJ'\n",
    "connector_type = 'PQ'\n",
    "O_type = 'DMOND'\n",
    "D_type = 'DMDND'"
   ]
  },
  {
   "cell_type": "code",
   "execution_count": null,
   "metadata": {},
   "outputs": [],
   "source": [
    "file_attr = \"MNM_input_\"\n",
    "node_file = file_attr + \"node\"\n",
    "link_file = file_attr + \"link\"\n",
    "snap_file = \"Snap_graph\"\n",
    "od_file = file_attr + \"od\"\n",
    "demand_file = file_attr + 'demand'"
   ]
  },
  {
   "cell_type": "code",
   "execution_count": null,
   "metadata": {},
   "outputs": [],
   "source": [
    "def add_node_str(node_num, type_str):\n",
    "    return str(node_num) + ' ' + type_str + '\\n'"
   ]
  },
  {
   "cell_type": "code",
   "execution_count": null,
   "metadata": {},
   "outputs": [],
   "source": [
    "def add_snap_str(link_num, from_node, to_node):\n",
    "    return str(link_num) + ' ' + str(from_node) + ' ' + str(to_node) + '\\n';"
   ]
  },
  {
   "cell_type": "code",
   "execution_count": null,
   "metadata": {},
   "outputs": [],
   "source": [
    "def add_link_str(link_num, link_type):\n",
    "    # CTM 0.8 45 2200 200 1\n",
    "    # PQ 1 99999 99999 99999 1\n",
    "    if link_type != 'PQ':\n",
    "        spd = np.round(np.random.random_sample() * (spd_ub - spd_lb)  + np.float(spd_lb))\n",
    "        return str(link_num) + ' ' + str(link_type) + ' ' + str(length) + ' ' + str(spd) + ' ' + str(cap) + ' ' + str(rhoj) + ' ' + str(num_lane) + '\\n'\n",
    "    else:\n",
    "        return str(link_num) + ' PQ 1 99999 99999 99999 1\\n'"
   ]
  },
  {
   "cell_type": "code",
   "execution_count": null,
   "metadata": {},
   "outputs": [],
   "source": [
    "def add_OD(od_id, node_id):\n",
    "    return str(od_id) + ' ' + str(node_id) + '\\n'"
   ]
  },
  {
   "cell_type": "code",
   "execution_count": null,
   "metadata": {},
   "outputs": [],
   "source": [
    "link_str_list = []\n",
    "node_str_list = []\n",
    "snap_str_list = []\n",
    "O_dict = dict()\n",
    "D_dict = dict()\n",
    "O_str_list = []\n",
    "D_str_list = []\n",
    "\n",
    "node_counter = 1\n",
    "link_counter = 1\n",
    "O_counter = 1\n",
    "D_counter = 1\n",
    "\n",
    "for i in xrange(num_row):\n",
    "    for j in xrange(num_col):\n",
    "        node_str_list.append(add_node_str(node_counter, node_type))\n",
    "        if (j != num_col - 1):\n",
    "            node1 = num_col * i + j + 1\n",
    "            node2 = node1 + 1\n",
    "            link_str_list.append(add_link_str(link_counter, link_type))\n",
    "            snap_str_list.append(add_snap_str(link_counter, node1, node2))\n",
    "            link_counter += 1\n",
    "            link_str_list.append(add_link_str(link_counter, link_type))\n",
    "            snap_str_list.append(add_snap_str(link_counter, node2, node1))   \n",
    "            link_counter += 1\n",
    "        if(i != num_row - 1):\n",
    "            node1 = num_col * i + j + 1\n",
    "            node2 = node1 + num_col\n",
    "            link_str_list.append(add_link_str(link_counter, link_type))\n",
    "            snap_str_list.append(add_snap_str(link_counter, node1, node2))\n",
    "            link_counter += 1\n",
    "            link_str_list.append(add_link_str(link_counter, link_type))\n",
    "            snap_str_list.append(add_snap_str(link_counter, node2, node1)) \n",
    "            link_counter += 1\n",
    "        node_counter += 1\n",
    "            \n",
    "for i in xrange(num_row):\n",
    "    for j in xrange(num_col):\n",
    "        node1 = num_col * i + j + 1\n",
    "        if(np.random.random_sample() < O_prob and (j ==0)):\n",
    "            node_str_list.append(add_node_str(node_counter, O_type))\n",
    "            O_dict[O_counter] = node1\n",
    "            O_str_list.append(add_OD(O_counter, node_counter))\n",
    "            link_str_list.append(add_link_str(link_counter, connector_type))\n",
    "            snap_str_list.append(add_snap_str(link_counter, node_counter, node1)) \n",
    "            link_counter += 1\n",
    "            node_counter += 1\n",
    "            O_counter += 1\n",
    "        if(np.random.random_sample() < D_prob and (j == num_col - 1)):\n",
    "            node_str_list.append(add_node_str(node_counter, D_type))\n",
    "            D_dict[D_counter] = node1\n",
    "            D_str_list.append(add_OD(D_counter, node_counter))\n",
    "            link_str_list.append(add_link_str(link_counter, connector_type))\n",
    "            snap_str_list.append(add_snap_str(link_counter, node1, node_counter)) \n",
    "            link_counter += 1\n",
    "            node_counter += 1\n",
    "            D_counter += 1\n"
   ]
  },
  {
   "cell_type": "code",
   "execution_count": null,
   "metadata": {},
   "outputs": [],
   "source": [
    "print link_str_list\n",
    "print node_str_list\n",
    "print snap_str_list\n",
    "print O_str_list\n",
    "print D_str_list\n",
    "print O_dict"
   ]
  },
  {
   "cell_type": "code",
   "execution_count": null,
   "metadata": {},
   "outputs": [],
   "source": [
    "def add_demand_str(O, D):\n",
    "    l = [str(O), str(D)]\n",
    "    d = [str(demand) for i in range(assign_horizon)]\n",
    "    l = l + d\n",
    "    return ' '.join(l) + '\\n'"
   ]
  },
  {
   "cell_type": "code",
   "execution_count": null,
   "metadata": {},
   "outputs": [],
   "source": [
    "# Origin_ID Destination_ID <demand by interval>\n",
    "demand_str_list = []\n",
    "\n",
    "for O, O_node in O_dict.iteritems():\n",
    "    for D, D_node in D_dict.iteritems():\n",
    "        if O_node != D_node:\n",
    "            demand_str_list.append(add_demand_str(O, D))"
   ]
  },
  {
   "cell_type": "code",
   "execution_count": null,
   "metadata": {},
   "outputs": [],
   "source": [
    "f = file(link_file, 'w')\n",
    "f.write(\"#ID Type LEN(mile) FFS(mile/h) Cap(v/hour) RHOJ(v/miles) Lane\\n\")\n",
    "for line in link_str_list:\n",
    "    f.write(line)\n",
    "f.close()\n",
    "\n",
    "f = file(node_file, 'w')\n",
    "f.write('#ID Type\\n')\n",
    "for line in node_str_list:\n",
    "    f.write(line)\n",
    "f.close()\n",
    "\n",
    "f = file(snap_file, 'w')\n",
    "f.write('# EdgeID FromNodeId ToNodeId\\n')\n",
    "for line in snap_str_list:\n",
    "    f.write(line)\n",
    "f.close()\n",
    "\n",
    "f = file(od_file, 'w')\n",
    "f.write('#Origin_ID <-> node_ID\\n')\n",
    "for line in O_str_list:\n",
    "    f.write(line)\n",
    "f.write('#Dest_ID <-> node_ID\\n')\n",
    "for line in D_str_list:\n",
    "    f.write(line)\n",
    "f.close()\n",
    "\n",
    "f = file(demand_file, 'w')\n",
    "f.write('#Origin_ID Destination_ID <demand by interval>\\n')\n",
    "for line in demand_str_list:\n",
    "    f.write(line)\n",
    "f.close()"
   ]
  },
  {
   "cell_type": "code",
   "execution_count": null,
   "metadata": {},
   "outputs": [],
   "source": [
    "print 'maximum_interval:', assign_horizon\n",
    "print 'num_of_link:', len(link_str_list)\n",
    "print 'num_of_node:', len(node_str_list)\n",
    "print 'num_of_O:', len(O_dict)\n",
    "print 'num_of_D:', len(D_dict)\n",
    "print 'num_of_od:', len(demand_str_list)"
   ]
  },
  {
   "cell_type": "code",
   "execution_count": null,
   "metadata": {},
   "outputs": [],
   "source": []
  }
 ],
 "metadata": {
  "anaconda-cloud": {},
  "kernelspec": {
   "display_name": "Python 2",
   "language": "python",
   "name": "python2"
  },
  "language_info": {
   "codemirror_mode": {
    "name": "ipython",
    "version": 2
   },
   "file_extension": ".py",
   "mimetype": "text/x-python",
   "name": "python",
   "nbconvert_exporter": "python",
   "pygments_lexer": "ipython2",
   "version": "2.7.10"
  }
 },
 "nbformat": 4,
 "nbformat_minor": 1
}
